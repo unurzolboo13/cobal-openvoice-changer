{
  "cells": [
    {
      "cell_type": "markdown",
      "metadata": {
        "id": "view-in-github",
        "colab_type": "text"
      },
      "source": [
        "<a href=\"https://colab.research.google.com/github/unurzolboo13/cobal-openvoice-changer/blob/main/notebooks/284-openvoice/284-openvoice.ipynb\" target=\"_parent\"><img src=\"https://colab.research.google.com/assets/colab-badge.svg\" alt=\"Open In Colab\"/></a>"
      ]
    },
    {
      "cell_type": "markdown",
      "metadata": {
        "editable": true,
        "tags": [],
        "id": "rIvKmZmizX63"
      },
      "source": [
        "# Voice tone cloning with OpenVoice and OpenVINO\n",
        "> **Note:** This notebook has been moved to a new branch named \"latest\". [Click here](https://github.com/openvinotoolkit/openvino_notebooks/blob/latest/notebooks/openvoice/openvoice.ipynb) to get the most updated version of the notebook. This branch is deprecated.\n"
      ]
    },
    {
      "cell_type": "markdown",
      "metadata": {
        "id": "f1EeV0OjzX65"
      },
      "source": [
        "OpenVoice is a versatile instant voice tone transferring and generating speech in various languages with just a brief audio snippet from the source speaker. OpenVoice has three main features: (i) high quality tone color replication with multiple languages and accents; (ii) it provides fine-tuned control over voice styles, including emotions, accents, as well as other parameters such as rhythm, pauses, and intonation. (iii) OpenVoice achieves zero-shot cross-lingual voice cloning, eliminating the need for the generated speech and the reference speech to be part of a massive-speaker multilingual training dataset.\n",
        "\n",
        "![image](https://github.com/openvinotoolkit/openvino_notebooks/assets/5703039/ca7eab80-148d-45b0-84e8-a5a279846b51)\n",
        "\n",
        "More details about model can be found in [project web page](https://research.myshell.ai/open-voice), [paper](https://arxiv.org/abs/2312.01479), and official [repository](https://github.com/myshell-ai/OpenVoice)\n",
        "\n",
        "This notebook provides example of converting [PyTorch OpenVoice model](https://github.com/myshell-ai/OpenVoice) to OpenVINO IR. In this tutorial we will explore how to convert and run OpenVoice using OpenVINO.\n",
        "\n",
        "#### Table of contents:\n",
        "\n",
        "- [Clone repository and install requirements](#Clone-repository-and-install-requirements)\n",
        "- [Download checkpoints and load PyTorch model](#Download-checkpoints-and-load-PyTorch-model)\n",
        "- [Convert models to OpenVINO IR](#Convert-models-to-OpenVINO-IR)\n",
        "- [Inference](#Inference)\n",
        "    - [Select inference device](#Select-inference-device)\n",
        "    - [Select reference tone](#Select-reference-tone)\n",
        "    - [Run inference](#Run-inference)\n",
        "- [Run OpenVoice Gradio interactive demo](#Run-OpenVoice-Gradio-interactive-demo)\n",
        "- [Cleanup](#Cleanup)\n",
        "\n"
      ]
    },
    {
      "cell_type": "markdown",
      "metadata": {
        "id": "Xo9_0YAqzX65"
      },
      "source": [
        "## Clone repository and install requirements\n",
        "[back to top ⬆️](#Table-of-contents:)"
      ]
    },
    {
      "cell_type": "code",
      "execution_count": null,
      "metadata": {
        "id": "PmiLJoKVzX66"
      },
      "outputs": [],
      "source": [
        "import sys\n",
        "from pathlib import Path\n",
        "\n",
        "repo_dir = Path(\"OpenVoice\")\n",
        "\n",
        "if not repo_dir.exists():\n",
        "    !git clone https://github.com/myshell-ai/OpenVoice\n",
        "    orig_english_path = Path(\"OpenVoice/openvoice/text/_orig_english.py\")\n",
        "    english_path = Path(\"OpenVoice/openvoice/text/english.py\")\n",
        "\n",
        "    english_path.rename(orig_english_path)\n",
        "\n",
        "    with orig_english_path.open(\"r\") as f:\n",
        "        data = f.read()\n",
        "        data = data.replace(\"unidecode\", \"anyascii\")\n",
        "        with english_path.open(\"w\") as out_f:\n",
        "            out_f.write(data)\n",
        "# append to sys.path so that modules from the repo could be imported\n",
        "sys.path.append(str(repo_dir))\n",
        "\n",
        "%pip install -q \"librosa>=0.8.1\" \"wavmark>=0.0.3\" \"faster-whisper>=0.9.0\" \"pydub>=0.25.1\" \"whisper-timestamped>=1.14.2\" \"tqdm\" \"inflect>=7.0.0\" \"eng_to_ipa>=0.0.2\" \"pypinyin>=0.50.0\" \\\n",
        "\"cn2an>=0.5.22\" \"jieba>=0.42.1\" \"langid>=1.1.6\" \"gradio>=4.15\" \"ipywebrtc\" \"anyascii\" \"openvino>=2023.3\""
      ]
    },
    {
      "cell_type": "markdown",
      "metadata": {
        "id": "tEsvUdLlzX67"
      },
      "source": [
        "## Download checkpoints and load PyTorch model\n",
        "[back to top ⬆️](#Table-of-contents:)"
      ]
    },
    {
      "cell_type": "code",
      "execution_count": null,
      "metadata": {
        "id": "-KaRxktOzX67"
      },
      "outputs": [],
      "source": [
        "import os\n",
        "import torch\n",
        "import openvino as ov\n",
        "import ipywidgets as widgets\n",
        "from IPython.display import Audio\n",
        "\n",
        "core = ov.Core()\n",
        "\n",
        "from openvoice.api import BaseSpeakerTTS, ToneColorConverter, OpenVoiceBaseClass\n",
        "import openvoice.se_extractor as se_extractor"
      ]
    },
    {
      "cell_type": "code",
      "execution_count": null,
      "metadata": {
        "id": "jMxYMpuXzX67"
      },
      "outputs": [],
      "source": [
        "CKPT_BASE_PATH = 'checkpoints'\n",
        "\n",
        "en_suffix = f'{CKPT_BASE_PATH}/base_speakers/EN'\n",
        "zh_suffix = f'{CKPT_BASE_PATH}/base_speakers/ZH'\n",
        "converter_suffix = f'{CKPT_BASE_PATH}/converter'"
      ]
    },
    {
      "cell_type": "markdown",
      "metadata": {
        "id": "kv-e1Uo8zX67"
      },
      "source": [
        "To make notebook lightweight by default model for Chinese speech is not activated, in order turn on please set flag `enable_chinese_lang` to True"
      ]
    },
    {
      "cell_type": "code",
      "execution_count": null,
      "metadata": {
        "id": "UhAcolA6zX68"
      },
      "outputs": [],
      "source": [
        "enable_chinese_lang = False"
      ]
    },
    {
      "cell_type": "code",
      "execution_count": null,
      "metadata": {
        "id": "sSg6EBj8zX68"
      },
      "outputs": [],
      "source": [
        "def download_from_hf_hub(filename, local_dir='./'):\n",
        "    from huggingface_hub import hf_hub_download\n",
        "    os.makedirs(local_dir, exist_ok=True)\n",
        "    hf_hub_download(repo_id=\"myshell-ai/OpenVoice\", filename=filename, local_dir=local_dir)\n",
        "\n",
        "download_from_hf_hub(f'{converter_suffix}/checkpoint.pth')\n",
        "download_from_hf_hub(f'{converter_suffix}/config.json')\n",
        "download_from_hf_hub(f'{en_suffix}/checkpoint.pth')\n",
        "download_from_hf_hub(f'{en_suffix}/config.json')\n",
        "\n",
        "download_from_hf_hub(f'{en_suffix}/en_default_se.pth')\n",
        "download_from_hf_hub(f'{en_suffix}/en_style_se.pth')\n",
        "\n",
        "if enable_chinese_lang:\n",
        "    download_from_hf_hub(f'{zh_suffix}/checkpoint.pth')\n",
        "    download_from_hf_hub(f'{zh_suffix}/config.json')\n",
        "    download_from_hf_hub(f'{zh_suffix}/zh_default_se.pth')"
      ]
    },
    {
      "cell_type": "code",
      "execution_count": null,
      "metadata": {
        "id": "3QmOXkV-zX68"
      },
      "outputs": [],
      "source": [
        "pt_device = \"cpu\"\n",
        "\n",
        "en_base_speaker_tts = BaseSpeakerTTS(f'{en_suffix}/config.json', device=pt_device)\n",
        "en_base_speaker_tts.load_ckpt(f'{en_suffix}/checkpoint.pth')\n",
        "\n",
        "tone_color_converter = ToneColorConverter(f'{converter_suffix}/config.json', device=pt_device)\n",
        "tone_color_converter.load_ckpt(f'{converter_suffix}/checkpoint.pth')\n",
        "\n",
        "if enable_chinese_lang:\n",
        "    zh_base_speaker_tts = BaseSpeakerTTS(f'{zh_suffix}/config.json', device=pt_device)\n",
        "    zh_base_speaker_tts.load_ckpt(f'{zh_suffix}/checkpoint.pth')\n",
        "else:\n",
        "    zh_base_speaker_tts = None"
      ]
    },
    {
      "cell_type": "markdown",
      "metadata": {
        "id": "DOUJZh7jzX68"
      },
      "source": [
        "## Convert models to OpenVINO IR\n",
        "[back to top ⬆️](#Table-of-contents:)"
      ]
    },
    {
      "cell_type": "markdown",
      "metadata": {
        "id": "DjD4Vwf8zX68"
      },
      "source": [
        "There are 2 models in OpenVoice: first one is responsible for speech generation `BaseSpeakerTTS` and the second one `ToneColorConverter` imposes arbitrary voice tone to the original speech. To convert to OpenVino IR format first we need to get acceptable `torch.nn.Module` object. Both ToneColorConverter, BaseSpeakerTTS instead of using `self.forward` as the main entry point use custom `infer` and `convert_voice` methods respectively, therefore need to wrap them with a custom class that is inherited from torch.nn.Module."
      ]
    },
    {
      "cell_type": "code",
      "execution_count": null,
      "metadata": {
        "id": "RdC9pLDPzX68"
      },
      "outputs": [],
      "source": [
        "class OVOpenVoiceBase(torch.nn.Module):\n",
        "    \"\"\"\n",
        "    Base class for both TTS and voice tone conversion model: constructor is same for both of them.\n",
        "    \"\"\"\n",
        "    def __init__(self, voice_model: OpenVoiceBaseClass):\n",
        "        super().__init__()\n",
        "        self.voice_model = voice_model\n",
        "        for par in voice_model.model.parameters():\n",
        "            par.requires_grad = False\n",
        "\n",
        "class OVOpenVoiceTTS(OVOpenVoiceBase):\n",
        "    \"\"\"\n",
        "    Constructor of this class accepts BaseSpeakerTTS object for speech generation and wraps it's 'infer' method with forward.\n",
        "    \"\"\"\n",
        "    def get_example_input(self):\n",
        "        stn_tst = self.voice_model.get_text('this is original text', self.voice_model.hps, False)\n",
        "        x_tst = stn_tst.unsqueeze(0)\n",
        "        x_tst_lengths = torch.LongTensor([stn_tst.size(0)])\n",
        "        speaker_id = torch.LongTensor([1])\n",
        "        noise_scale = torch.tensor(0.667)\n",
        "        length_scale = torch.tensor(1.0)\n",
        "        noise_scale_w = torch.tensor(0.6)\n",
        "        return (x_tst, x_tst_lengths, speaker_id, noise_scale, length_scale, noise_scale_w)\n",
        "\n",
        "    def forward(self, x, x_lengths, sid, noise_scale, length_scale, noise_scale_w):\n",
        "        return self.voice_model.model.infer(x, x_lengths, sid, noise_scale, length_scale, noise_scale_w)\n",
        "\n",
        "class OVOpenVoiceConverter(OVOpenVoiceBase):\n",
        "    \"\"\"\n",
        "    Constructor of this class accepts ToneColorConverter object for voice tone conversion and wraps it's 'voice_conversion' method with forward.\n",
        "    \"\"\"\n",
        "    def get_example_input(self):\n",
        "        y = torch.randn([1, 513, 238], dtype=torch.float32)\n",
        "        y_lengths = torch.LongTensor([y.size(-1)])\n",
        "        target_se = torch.randn(*(1, 256, 1))\n",
        "        source_se = torch.randn(*(1, 256, 1))\n",
        "        tau = torch.tensor(0.3)\n",
        "        return (y, y_lengths, source_se, target_se, tau)\n",
        "\n",
        "    def forward(self, y, y_lengths, sid_src, sid_tgt, tau):\n",
        "        return self.voice_model.model.voice_conversion(y, y_lengths, sid_src, sid_tgt, tau)"
      ]
    },
    {
      "cell_type": "markdown",
      "metadata": {
        "id": "X0bnQ2h9zX68"
      },
      "source": [
        "Convert to OpenVino IR and save to IRs_path folder for the future use. If IRs already exist skip conversion and read them directly"
      ]
    },
    {
      "cell_type": "code",
      "execution_count": null,
      "metadata": {
        "id": "hxaX2WSZzX68"
      },
      "outputs": [],
      "source": [
        "IRS_PATH = 'openvino_irs/'\n",
        "EN_TTS_IR = f'{IRS_PATH}/openvoice_en_tts.xml'\n",
        "ZH_TTS_IR = f'{IRS_PATH}/openvoice_zh_tts.xml'\n",
        "VOICE_CONVERTER_IR = f'{IRS_PATH}/openvoice_tone_conversion.xml'\n",
        "\n",
        "paths = [EN_TTS_IR, VOICE_CONVERTER_IR]\n",
        "models = [OVOpenVoiceTTS(en_base_speaker_tts), OVOpenVoiceConverter(tone_color_converter)]\n",
        "if enable_chinese_lang:\n",
        "    models.append(OVOpenVoiceTTS(zh_base_speaker_tts))\n",
        "    paths.append(ZH_TTS_IR)\n",
        "ov_models = []\n",
        "\n",
        "for model, path in zip(models, paths):\n",
        "    if not os.path.exists(path):\n",
        "        ov_model = ov.convert_model(model, example_input=model.get_example_input())\n",
        "        ov.save_model(ov_model, path)\n",
        "    else:\n",
        "        ov_model = core.read_model(path)\n",
        "    ov_models.append(ov_model)\n",
        "\n",
        "ov_en_tts, ov_voice_conversion = ov_models[:2]\n",
        "if enable_chinese_lang:\n",
        "    ov_zh_tts = ov_models[-1]"
      ]
    },
    {
      "cell_type": "markdown",
      "metadata": {
        "id": "PmuAfL0yzX69"
      },
      "source": [
        "## Inference\n",
        "[back to top ⬆️](#Table-of-contents:)"
      ]
    },
    {
      "cell_type": "markdown",
      "metadata": {
        "id": "qsG87VJqzX69"
      },
      "source": [
        "### Select inference device\n",
        "[back to top ⬆️](#Table-of-contents:)"
      ]
    },
    {
      "cell_type": "code",
      "execution_count": null,
      "metadata": {
        "id": "tRLRdkKVzX69"
      },
      "outputs": [],
      "source": [
        "core = ov.Core()\n",
        "\n",
        "device = widgets.Dropdown(\n",
        "    options=core.available_devices + [\"AUTO\"],\n",
        "    value='AUTO',\n",
        "    description='Device:',\n",
        "    disabled=False,\n",
        ")\n",
        "device"
      ]
    },
    {
      "cell_type": "markdown",
      "metadata": {
        "id": "Hy6-CkM0zX69"
      },
      "source": [
        "### Select reference tone\n",
        "[back to top ⬆️](#Table-of-contents:)"
      ]
    },
    {
      "cell_type": "markdown",
      "metadata": {
        "id": "BdxErTB_zX69"
      },
      "source": [
        "First of all, select the reference tone of voice to which the generated text will be converted: your can select from existing ones, record your own by selecting `record_manually` or upload you own file by `load_manually`"
      ]
    },
    {
      "cell_type": "code",
      "execution_count": null,
      "metadata": {
        "id": "BPYCVfVdzX69"
      },
      "outputs": [],
      "source": [
        "REFERENCE_VOICES_PATH = f'{repo_dir}/resources/'\n",
        "reference_speakers = [\n",
        "    *[path for path in os.listdir(REFERENCE_VOICES_PATH) if os.path.splitext(path)[-1] == '.mp3'],\n",
        "    'record_manually',\n",
        "    'load_manually',\n",
        "]\n",
        "\n",
        "ref_speaker = widgets.Dropdown(\n",
        "    options=reference_speakers,\n",
        "    value=reference_speakers[0],\n",
        "    description=\"reference voice from which tone color will be copied\",\n",
        "    disabled=False,\n",
        ")\n",
        "\n",
        "ref_speaker"
      ]
    },
    {
      "cell_type": "code",
      "execution_count": null,
      "metadata": {
        "id": "0qidyTEfzX69"
      },
      "outputs": [],
      "source": [
        "OUTPUT_DIR = 'outputs/'\n",
        "os.makedirs(OUTPUT_DIR, exist_ok=True)"
      ]
    },
    {
      "cell_type": "code",
      "execution_count": null,
      "metadata": {
        "id": "GTPn9xd_zX69"
      },
      "outputs": [],
      "source": [
        "ref_speaker_path = f'{REFERENCE_VOICES_PATH}/{ref_speaker.value}'\n",
        "allowed_audio_types = '.mp4,.mp3,.wav,.wma,.aac,.m4a,.m4b,.webm'\n",
        "\n",
        "if ref_speaker.value == 'record_manually':\n",
        "    ref_speaker_path = f'{OUTPUT_DIR}/custom_example_sample.webm'\n",
        "    from ipywebrtc import AudioRecorder, CameraStream\n",
        "    camera = CameraStream(constraints={'audio': True,'video':False})\n",
        "    recorder = AudioRecorder(stream=camera, filename=ref_speaker_path, autosave=True)\n",
        "    display(recorder)\n",
        "elif ref_speaker.value == 'load_manually':\n",
        "    upload_ref = widgets.FileUpload(accept=allowed_audio_types, multiple=False, description='Select audio with reference voice')\n",
        "    display(upload_ref)"
      ]
    },
    {
      "cell_type": "markdown",
      "metadata": {
        "id": "nkpUcK_9zX69"
      },
      "source": [
        "Play the reference voice sample before cloning it's tone to another speech"
      ]
    },
    {
      "cell_type": "code",
      "execution_count": null,
      "metadata": {
        "id": "ehCIjMGczX69"
      },
      "outputs": [],
      "source": [
        "def save_audio(voice_source: widgets.FileUpload, out_path: str):\n",
        "    with open(out_path, 'wb') as output_file:\n",
        "        assert len(voice_source.value) > 0, 'Please select audio file'\n",
        "        output_file.write(voice_source.value[0]['content'])\n",
        "\n",
        "if ref_speaker.value == 'load_manually':\n",
        "    ref_speaker_path = f'{OUTPUT_DIR}/{upload_ref.value[0].name}'\n",
        "    save_audio(upload_ref, ref_speaker_path)"
      ]
    },
    {
      "cell_type": "code",
      "execution_count": null,
      "metadata": {
        "id": "ZwiWnI6ezX6-"
      },
      "outputs": [],
      "source": [
        "Audio(ref_speaker_path)"
      ]
    },
    {
      "cell_type": "markdown",
      "metadata": {
        "id": "9oofHYfNzX6-"
      },
      "source": [
        "Load speaker embeddings"
      ]
    },
    {
      "cell_type": "code",
      "execution_count": null,
      "metadata": {
        "id": "bDyqtUIxzX6-"
      },
      "outputs": [],
      "source": [
        "en_source_default_se = torch.load(f'{en_suffix}/en_default_se.pth')\n",
        "en_source_style_se = torch.load(f'{en_suffix}/en_style_se.pth')\n",
        "zh_source_se = torch.load(f'{zh_suffix}/zh_default_se.pth') if enable_chinese_lang else None\n",
        "\n",
        "target_se, audio_name = se_extractor.get_se(ref_speaker_path, tone_color_converter, target_dir=OUTPUT_DIR, vad=True)"
      ]
    },
    {
      "cell_type": "markdown",
      "metadata": {
        "id": "6bsmP509zX6-"
      },
      "source": [
        "Replace original infer methods of `OpenVoiceBaseClass` with optimized OpenVINO inference.\n",
        "\n",
        "There are pre and post processings that are not traceable and could not be offloaded to OpenVINO, instead of writing such processing ourselves we will rely on the already existing ones. We just replace infer and voice conversion functions of `OpenVoiceBaseClass` so that the the most computationally expensive part is done in OpenVINO."
      ]
    },
    {
      "cell_type": "code",
      "execution_count": null,
      "metadata": {
        "id": "Lh96YjzgzX6-"
      },
      "outputs": [],
      "source": [
        "def get_pathched_infer(ov_model: ov.Model, device: str) -> callable:\n",
        "    compiled_model = core.compile_model(ov_model, device)\n",
        "\n",
        "    def infer_impl(x, x_lengths, sid, noise_scale, length_scale, noise_scale_w):\n",
        "        ov_output = compiled_model((x, x_lengths, sid, noise_scale, length_scale, noise_scale_w))\n",
        "        return (torch.tensor(ov_output[0]), )\n",
        "    return infer_impl\n",
        "\n",
        "def get_patched_voice_conversion(ov_model: ov.Model, device: str) -> callable:\n",
        "    compiled_model = core.compile_model(ov_model, device)\n",
        "\n",
        "    def voice_conversion_impl(y, y_lengths, sid_src, sid_tgt, tau):\n",
        "        ov_output = compiled_model((y, y_lengths, sid_src, sid_tgt, tau))\n",
        "        return (torch.tensor(ov_output[0]), )\n",
        "    return voice_conversion_impl\n",
        "\n",
        "en_base_speaker_tts.model.infer = get_pathched_infer(ov_en_tts, device.value)\n",
        "tone_color_converter.model.voice_conversion = get_patched_voice_conversion(ov_voice_conversion, device.value)\n",
        "if enable_chinese_lang:\n",
        "    zh_base_speaker_tts.model.infer = get_pathched_infer(ov_zh_tts, device.value)"
      ]
    },
    {
      "cell_type": "markdown",
      "metadata": {
        "id": "8JKV6FFVzX6-"
      },
      "source": [
        "### Run inference\n",
        "[back to top ⬆️](#Table-of-contents:)"
      ]
    },
    {
      "cell_type": "code",
      "execution_count": null,
      "metadata": {
        "id": "2oJz3zsizX6-"
      },
      "outputs": [],
      "source": [
        "voice_source = widgets.Dropdown(\n",
        "    options=['use TTS', 'choose_manually'],\n",
        "    value='use TTS',\n",
        "    description=\"Voice source\",\n",
        "    disabled=False,\n",
        ")\n",
        "\n",
        "voice_source"
      ]
    },
    {
      "cell_type": "code",
      "execution_count": null,
      "metadata": {
        "id": "VhhuEYqGzX6-"
      },
      "outputs": [],
      "source": [
        "if voice_source.value == 'choose_manually':\n",
        "    upload_orig_voice = widgets.FileUpload(accept=allowed_audio_types, multiple=False, description='audo whose tone will be replaced')\n",
        "    display(upload_orig_voice)"
      ]
    },
    {
      "cell_type": "code",
      "execution_count": null,
      "metadata": {
        "id": "Auwlar1EzX6-"
      },
      "outputs": [],
      "source": [
        "if voice_source.value == 'choose_manually':\n",
        "    orig_voice_path = f'{OUTPUT_DIR}/{upload_orig_voice.value[0].name}'\n",
        "    save_audio(upload_orig_voice, orig_voice_path)\n",
        "    source_se, _ = se_extractor.get_se(orig_voice_path, tone_color_converter, target_dir=OUTPUT_DIR, vad=True)\n",
        "else:\n",
        "    text = \"\"\"\n",
        "    OpenVINO toolkit is a comprehensive toolkit for quickly developing applications and solutions that solve\n",
        "    a variety of tasks including emulation of human vision, automatic speech recognition, natural language processing,\n",
        "    recommendation systems, and many others.\n",
        "    \"\"\"\n",
        "    source_se = en_source_default_se\n",
        "    orig_voice_path = f'{OUTPUT_DIR}/tmp.wav'\n",
        "    en_base_speaker_tts.tts(text, orig_voice_path, speaker='default', language='English')"
      ]
    },
    {
      "cell_type": "markdown",
      "metadata": {
        "id": "4tfT3IMvzX6_"
      },
      "source": [
        "And finally, run voice tone conversion with OpenVINO optimized model"
      ]
    },
    {
      "cell_type": "code",
      "execution_count": null,
      "metadata": {
        "id": "lilj_XTZzX6_"
      },
      "outputs": [],
      "source": [
        "tau_slider = widgets.FloatSlider(\n",
        "    value=0.3,\n",
        "    min=0.01,\n",
        "    max=2.0,\n",
        "    step=0.01,\n",
        "    description='tau',\n",
        "    disabled=False,\n",
        "    readout_format='.2f',\n",
        ")\n",
        "tau_slider"
      ]
    },
    {
      "cell_type": "code",
      "execution_count": null,
      "metadata": {
        "id": "O9lBNVCDzX6_"
      },
      "outputs": [],
      "source": [
        "resulting_voice_path = f'{OUTPUT_DIR}/output_with_cloned_voice_tone.wav'\n",
        "\n",
        "tone_color_converter.convert(\n",
        "    audio_src_path=orig_voice_path,\n",
        "    src_se=source_se,\n",
        "    tgt_se=target_se,\n",
        "    output_path=resulting_voice_path,\n",
        "    tau=tau_slider.value,\n",
        "    message=\"@MyShell\")"
      ]
    },
    {
      "cell_type": "code",
      "execution_count": null,
      "metadata": {
        "id": "v1Z2WddHzX6_"
      },
      "outputs": [],
      "source": [
        "Audio(orig_voice_path)"
      ]
    },
    {
      "cell_type": "code",
      "execution_count": null,
      "metadata": {
        "id": "Vf7zHc6dzX7E"
      },
      "outputs": [],
      "source": [
        "Audio(resulting_voice_path)"
      ]
    },
    {
      "cell_type": "markdown",
      "metadata": {
        "id": "lAAhtFmUzX7E"
      },
      "source": [
        "## Run OpenVoice Gradio interactive demo\n",
        "[back to top ⬆️](#Table-of-contents:)"
      ]
    },
    {
      "cell_type": "markdown",
      "metadata": {
        "id": "c7r_8ds9zX7E"
      },
      "source": [
        "We can also use [Gradio](https://www.gradio.app/) app to run TTS and voice tone conversion online."
      ]
    },
    {
      "cell_type": "code",
      "execution_count": null,
      "metadata": {
        "id": "DryZFkiuzX7E"
      },
      "outputs": [],
      "source": [
        "import gradio as gr\n",
        "import langid\n",
        "\n",
        "supported_languages = ['zh', 'en']\n",
        "\n",
        "def build_predict(output_dir, tone_color_converter, en_tts_model, zh_tts_model, en_source_default_se, en_source_style_se, zh_source_se):\n",
        "    def predict(prompt, style, audio_file_pth, agree):\n",
        "        return predict_impl(prompt, style, audio_file_pth, agree, output_dir, tone_color_converter, en_tts_model, zh_tts_model, en_source_default_se, en_source_style_se, zh_source_se)\n",
        "    return predict\n",
        "\n",
        "def predict_impl(prompt, style, audio_file_pth, agree, output_dir, tone_color_converter, en_tts_model, zh_tts_model, en_source_default_se, en_source_style_se, zh_source_se):\n",
        "    text_hint = ''\n",
        "    if not agree:\n",
        "        text_hint += '[ERROR] Please accept the Terms & Condition!\\n'\n",
        "        gr.Warning(\"Please accept the Terms & Condition!\")\n",
        "        return (\n",
        "            text_hint,\n",
        "            None,\n",
        "            None,\n",
        "        )\n",
        "\n",
        "    language_predicted = langid.classify(prompt)[0].strip()\n",
        "    print(f\"Detected language:{language_predicted}\")\n",
        "\n",
        "    if language_predicted not in supported_languages:\n",
        "        text_hint += f\"[ERROR] The detected language {language_predicted} for your input text is not in our Supported Languages: {supported_languages}\\n\"\n",
        "        gr.Warning(\n",
        "            f\"The detected language {language_predicted} for your input text is not in our Supported Languages: {supported_languages}\"\n",
        "        )\n",
        "\n",
        "        return (\n",
        "            text_hint,\n",
        "            None,\n",
        "        )\n",
        "\n",
        "    if language_predicted == \"zh\":\n",
        "        tts_model = zh_tts_model\n",
        "        if zh_tts_model is None:\n",
        "            gr.Warning(\"TTS model for Chinece language was not loaded please set 'enable_chinese_lang=True`\")\n",
        "            return (\n",
        "                text_hint,\n",
        "                None,\n",
        "            )\n",
        "        source_se = zh_source_se\n",
        "        language = 'Chinese'\n",
        "        if style not in ['default']:\n",
        "            text_hint += f\"[ERROR] The style {style} is not supported for Chinese, which should be in ['default']\\n\"\n",
        "            gr.Warning(f\"The style {style} is not supported for Chinese, which should be in ['default']\")\n",
        "            return (\n",
        "                text_hint,\n",
        "                None,\n",
        "            )\n",
        "    else:\n",
        "        tts_model = en_tts_model\n",
        "        if style == 'default':\n",
        "            source_se = en_source_default_se\n",
        "        else:\n",
        "            source_se = en_source_style_se\n",
        "        language = 'English'\n",
        "        supported_styles = ['default', 'whispering', 'shouting', 'excited', 'cheerful', 'terrified', 'angry', 'sad', 'friendly']\n",
        "        if style not in supported_styles:\n",
        "            text_hint += f\"[ERROR] The style {style} is not supported for English, which should be in {*supported_styles,}\\n\"\n",
        "            gr.Warning(f\"The style {style} is not supported for English, which should be in {*supported_styles,}\")\n",
        "            return (\n",
        "                text_hint,\n",
        "                None,\n",
        "            )\n",
        "\n",
        "    speaker_wav = audio_file_pth\n",
        "\n",
        "    if len(prompt) < 2:\n",
        "        text_hint += \"[ERROR] Please give a longer prompt text \\n\"\n",
        "        gr.Warning(\"Please give a longer prompt text\")\n",
        "        return (\n",
        "            text_hint,\n",
        "            None,\n",
        "        )\n",
        "    if len(prompt) > 200:\n",
        "        text_hint += \"[ERROR] Text length limited to 200 characters for this demo, please try shorter text. You can clone our open-source repo and try for your usage \\n\"\n",
        "        gr.Warning(\n",
        "            \"Text length limited to 200 characters for this demo, please try shorter text. You can clone our open-source repo for your usage\"\n",
        "        )\n",
        "        return (\n",
        "            text_hint,\n",
        "            None,\n",
        "        )\n",
        "\n",
        "    # note diffusion_conditioning not used on hifigan (default mode), it will be empty but need to pass it to model.inference\n",
        "    try:\n",
        "        target_se, audio_name = se_extractor.get_se(speaker_wav, tone_color_converter, target_dir=OUTPUT_DIR, vad=True)\n",
        "    except Exception as e:\n",
        "        text_hint += f\"[ERROR] Get target tone color error {str(e)} \\n\"\n",
        "        gr.Warning(\n",
        "            \"[ERROR] Get target tone color error {str(e)} \\n\"\n",
        "        )\n",
        "        return (\n",
        "            text_hint,\n",
        "            None,\n",
        "        )\n",
        "\n",
        "    src_path = f'{output_dir}/tmp.wav'\n",
        "    tts_model.tts(prompt, src_path, speaker=style, language=language)\n",
        "\n",
        "    save_path = f'{output_dir}/output.wav'\n",
        "    encode_message = \"@MyShell\"\n",
        "    tone_color_converter.convert(\n",
        "        audio_src_path=src_path,\n",
        "        src_se=source_se,\n",
        "        tgt_se=target_se,\n",
        "        output_path=save_path,\n",
        "        message=encode_message)\n",
        "\n",
        "    text_hint += 'Get response successfully \\n'\n",
        "\n",
        "    return (\n",
        "        text_hint,\n",
        "        src_path,\n",
        "        save_path,\n",
        "    )\n",
        "\n",
        "description = \"\"\"\n",
        "    # OpenVoice accelerated by OpenVINO:\n",
        "\n",
        "    a versatile instant voice cloning approach that requires only a short audio clip from the reference speaker to replicate their voice and generate speech in multiple languages. OpenVoice enables granular control over voice styles, including emotion, accent, rhythm, pauses, and intonation, in addition to replicating the tone color of the reference speaker. OpenVoice also achieves zero-shot cross-lingual voice cloning for languages not included in the massive-speaker training set.\n",
        "\"\"\"\n",
        "\n",
        "content = \"\"\"\n",
        "<div>\n",
        "<strong>If the generated voice does not sound like the reference voice, please refer to <a href='https://github.com/myshell-ai/OpenVoice/blob/main/docs/QA.md'>this QnA</a>.</strong> <strong>For multi-lingual & cross-lingual examples, please refer to <a href='https://github.com/myshell-ai/OpenVoice/blob/main/demo_part2.ipynb'>this jupyter notebook</a>.</strong>\n",
        "This online demo mainly supports <strong>English</strong>. The <em>default</em> style also supports <strong>Chinese</strong>. But OpenVoice can adapt to any other language as long as a base speaker is provided.\n",
        "</div>\n",
        "\"\"\"\n",
        "wrapped_markdown_content = f\"<div style='border: 1px solid #000; padding: 10px;'>{content}</div>\"\n",
        "\n",
        "\n",
        "examples = [\n",
        "    [\n",
        "        \"今天天气真好，我们一起出去吃饭吧。\",\n",
        "        'default',\n",
        "        \"OpenVoice/resources/demo_speaker1.mp3\",\n",
        "        True,\n",
        "    ],[\n",
        "        \"This audio is generated by open voice with a half-performance model.\",\n",
        "        'whispering',\n",
        "        \"OpenVoice/resources/demo_speaker2.mp3\",\n",
        "        True,\n",
        "    ],\n",
        "    [\n",
        "        \"He hoped there would be stew for dinner, turnips and carrots and bruised potatoes and fat mutton pieces to be ladled out in thick, peppered, flour-fattened sauce.\",\n",
        "        'sad',\n",
        "        \"OpenVoice/resources/demo_speaker0.mp3\",\n",
        "        True,\n",
        "    ],\n",
        "]\n",
        "\n",
        "def get_demo(output_dir, tone_color_converter, en_tts_model, zh_tts_model, en_source_default_se, en_source_style_se, zh_source_se):\n",
        "    with gr.Blocks(analytics_enabled=False) as demo:\n",
        "        with gr.Row():\n",
        "            gr.Markdown(description)\n",
        "        with gr.Row():\n",
        "            gr.HTML(wrapped_markdown_content)\n",
        "\n",
        "        with gr.Row():\n",
        "            with gr.Column():\n",
        "                input_text_gr = gr.Textbox(\n",
        "                    label=\"Text Prompt\",\n",
        "                    info=\"One or two sentences at a time is better. Up to 200 text characters.\",\n",
        "                    value=\"He hoped there would be stew for dinner, turnips and carrots and bruised potatoes and fat mutton pieces to be ladled out in thick, peppered, flour-fattened sauce.\",\n",
        "                )\n",
        "                style_gr = gr.Dropdown(\n",
        "                    label=\"Style\",\n",
        "                    info=\"Select a style of output audio for the synthesised speech. (Chinese only support 'default' now)\",\n",
        "                    choices=['default', 'whispering', 'cheerful', 'terrified', 'angry', 'sad', 'friendly'],\n",
        "                    max_choices=1,\n",
        "                    value=\"default\",\n",
        "                )\n",
        "                ref_gr = gr.Audio(\n",
        "                    label=\"Reference Audio\",\n",
        "                    type=\"filepath\",\n",
        "                    value=\"OpenVoice/resources/demo_speaker2.mp3\",\n",
        "                )\n",
        "                tos_gr = gr.Checkbox(\n",
        "                    label=\"Agree\",\n",
        "                    value=False,\n",
        "                    info=\"I agree to the terms of the cc-by-nc-4.0 license-: https://github.com/myshell-ai/OpenVoice/blob/main/LICENSE\",\n",
        "                )\n",
        "\n",
        "                tts_button = gr.Button(\"Send\", elem_id=\"send-btn\", visible=True)\n",
        "\n",
        "\n",
        "            with gr.Column():\n",
        "                out_text_gr = gr.Text(label=\"Info\")\n",
        "                audio_orig_gr = gr.Audio(label=\"Synthesised Audio\", autoplay=False)\n",
        "                audio_gr = gr.Audio(label=\"Audio with cloned voice\", autoplay=True)\n",
        "                # ref_audio_gr = gr.Audio(label=\"Reference Audio Used\")\n",
        "                predict = build_predict(\n",
        "                    output_dir,\n",
        "                    tone_color_converter,\n",
        "                    en_tts_model,\n",
        "                    zh_tts_model,\n",
        "                    en_source_default_se,\n",
        "                    en_source_style_se,\n",
        "                    zh_source_se\n",
        "                )\n",
        "\n",
        "                gr.Examples(examples,\n",
        "                            label=\"Examples\",\n",
        "                            inputs=[input_text_gr, style_gr, ref_gr, tos_gr],\n",
        "                            outputs=[out_text_gr, audio_gr],\n",
        "                            fn=predict,\n",
        "                            cache_examples=False,)\n",
        "                tts_button.click(predict, [input_text_gr, style_gr, ref_gr, tos_gr], outputs=[out_text_gr, audio_orig_gr, audio_gr])\n",
        "    return demo"
      ]
    },
    {
      "cell_type": "code",
      "execution_count": null,
      "metadata": {
        "id": "tB0PJp0izX7F"
      },
      "outputs": [],
      "source": [
        "demo = get_demo(OUTPUT_DIR, tone_color_converter, en_base_speaker_tts, zh_base_speaker_tts, en_source_default_se, en_source_style_se, zh_source_se)\n",
        "demo.queue(max_size=2)\n",
        "\n",
        "try:\n",
        "    demo.launch(debug=True, height=1000)\n",
        "except Exception:\n",
        "    demo.launch(share=True, debug=True, height=1000)\n",
        "# if you are launching remotely, specify server_name and server_port\n",
        "# demo.launch(server_name='your server name', server_port='server port in int')\n",
        "# Read more in the docs: https://gradio.app/docs/"
      ]
    },
    {
      "cell_type": "markdown",
      "metadata": {
        "id": "LPp5A_P7zX7F"
      },
      "source": [
        "## Cleanup\n",
        "[back to top ⬆️](#Table-of-contents:)"
      ]
    },
    {
      "cell_type": "code",
      "execution_count": null,
      "metadata": {
        "id": "2RqKCkfpzX7F"
      },
      "outputs": [],
      "source": [
        "# import shutil\n",
        "# shutil.rmtree(CKPT_BASE_PATH)\n",
        "# shutil.rmtree(IRS_PATH)\n",
        "# shutil.rmtree(OUTPUT_DIR)"
      ]
    }
  ],
  "metadata": {
    "kernelspec": {
      "display_name": "Python 3 (ipykernel)",
      "language": "python",
      "name": "python3"
    },
    "language_info": {
      "codemirror_mode": {
        "name": "ipython",
        "version": 3
      },
      "file_extension": ".py",
      "mimetype": "text/x-python",
      "name": "python",
      "nbconvert_exporter": "python",
      "pygments_lexer": "ipython3",
      "version": "3.8.10"
    },
    "openvino_notebooks": {
      "imageUrl": "https://github.com/openvinotoolkit/openvino_notebooks/assets/29454499/48584f6c-5836-464e-b6d6-10d46511d961",
      "tags": {
        "categories": [
          "AI Trends",
          "Convert",
          "Optimize",
          "Model Demos",
          "Live Demos"
        ],
        "libraries": [],
        "other": [],
        "tasks": [
          "Text-to-Audio"
        ]
      }
    },
    "colab": {
      "provenance": [],
      "include_colab_link": true
    }
  },
  "nbformat": 4,
  "nbformat_minor": 0
}